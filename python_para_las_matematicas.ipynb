{
 "cells": [
  {
   "cell_type": "markdown",
   "metadata": {},
   "source": [
    "# Introducción"
   ]
  },
  {
   "cell_type": "markdown",
   "metadata": {},
   "source": [
    "# Breve introducción a Python\n",
    "\n",
    "## Variables\n",
    "\n",
    "Una variable es un nombre que se refiere a un valor. La sentencia de asignación crea nuevas variables y les da valores que son  guardados en la memoria. Se componenen de letras mayúsculas y minúsculas, el guión bajo (_); exeptuando el primer caracter y dígitos del 0-9.\n",
    "\n",
    "Existen distintos tipos de variales que se verá mejor en el siguiente ejemplo:\n",
    "\n",
    "la función **type()** nos devuelve el tipo de variable."
   ]
  },
  {
   "cell_type": "code",
   "execution_count": 1,
   "metadata": {},
   "outputs": [
    {
     "name": "stdout",
     "output_type": "stream",
     "text": [
      "Tipos de Variables: \n"
     ]
    },
    {
     "data": {
      "text/plain": [
       "(int, float, str, str, str, bool, bool)"
      ]
     },
     "execution_count": 1,
     "metadata": {},
     "output_type": "execute_result"
    }
   ],
   "source": [
    "#Datos Enteros\n",
    "a = type(17)\n",
    "a_1 = 17\n",
    "#Datos flotantes\n",
    "b = type(.4)\n",
    "b_1 = 0.4\n",
    "\n",
    "'''Las cadenas se puedes escibrir de \n",
    "distintas maneras por ejemplo'''\n",
    "\n",
    "c1 = type(\"Hola, mundo\")\n",
    "c1_1 = \"Hola, mundo\"\n",
    "\n",
    "c2 = type('Una manzana')\n",
    "c2_1 = 'Una manzana'\n",
    "\n",
    "c3 = type('''Dos manzanas''')\n",
    "c3_1 = '''Dos manzanas'''\n",
    "\n",
    "#Datos booleanos\n",
    "\n",
    "d = type(True)\n",
    "d2 = type(False) \n",
    "\n",
    "print(\"Tipos de Variables: \")\n",
    "\n",
    "#En esta sección se imprimen los tipos de variables\n",
    "\n",
    "a, b, c1, c2, c3, d, d2"
   ]
  },
  {
   "cell_type": "markdown",
   "metadata": {},
   "source": [
    "En esta sección se imprimen los valores de las variables."
   ]
  },
  {
   "cell_type": "code",
   "execution_count": 2,
   "metadata": {},
   "outputs": [
    {
     "name": "stdout",
     "output_type": "stream",
     "text": [
      "\n",
      " Variables: \n",
      "\n",
      " a =  17 \n",
      " b = 0.4 \n",
      " c1_1 =  Hola, mundo \n",
      " c2_1 =  Una manzana \n",
      " c3_1 = Dos manzanas\n"
     ]
    }
   ],
   "source": [
    "print(\"\\n Variables: \")\n",
    "print(\"\\n a = \",a_1,\"\\n b =\", b_1,\"\\n c1_1 = \",c1_1, \"\\n c2_1 = \",  c2_1,\"\\n c3_1 =\", c3_1)"
   ]
  },
  {
   "cell_type": "markdown",
   "metadata": {},
   "source": [
    "### Tipos de Variable\n",
    "Existen distintos tipos de variales, por ejemplo: \n",
    "* **int(x):** Convierte x a un entero, trunca los flotantes a 0.\n",
    "* **int(x,y):** Convierte x dado en base b a un entero\n",
    "* **float(x):** Conviernte x a un valor flotante.\n",
    "* **str(x):** Convierte x a una cadena (string)\n",
    "\n",
    "Las variables se pueden manipular de diferentes maneras: realizando operaciones, convirtiendo sus valores, entre otras cosas. \n"
   ]
  },
  {
   "cell_type": "code",
   "execution_count": 3,
   "metadata": {},
   "outputs": [
    {
     "name": "stdout",
     "output_type": "stream",
     "text": [
      "De flotante a entero:  2\n",
      "De entero a flotante:  -23.0\n"
     ]
    }
   ],
   "source": [
    "a = int(2.5)\n",
    "\n",
    "print(\"De flotante a entero: \", a)\n",
    "\n",
    "b = float(-23)\n",
    "print(\"De entero a flotante: \", b)\n"
   ]
  },
  {
   "cell_type": "code",
   "execution_count": 4,
   "metadata": {},
   "outputs": [
    {
     "name": "stdout",
     "output_type": "stream",
     "text": [
      "Suma:  -21.0\n"
     ]
    }
   ],
   "source": [
    "#la suma de un entero y flotante da un flotante\n",
    "c =  a + b\n",
    "print('Suma: ', c)"
   ]
  },
  {
   "cell_type": "code",
   "execution_count": 5,
   "metadata": {},
   "outputs": [
    {
     "name": "stdout",
     "output_type": "stream",
     "text": [
      "De flotante a entero:  -21\n"
     ]
    }
   ],
   "source": [
    "\n",
    "#c2 muestra la conversión de un flotante en entero\n",
    "c2 = int(c)\n",
    "print(\"De flotante a entero: \", c2)"
   ]
  },
  {
   "cell_type": "code",
   "execution_count": 6,
   "metadata": {},
   "outputs": [
    {
     "name": "stdout",
     "output_type": "stream",
     "text": [
      "De entero a cadena:  -21.0\n"
     ]
    }
   ],
   "source": [
    "#c4 muestra la conversión de un flotante en string(cadena)\n",
    "c3 = str(c)\n",
    "print(\"De entero a cadena: \", c3)"
   ]
  },
  {
   "cell_type": "markdown",
   "metadata": {},
   "source": [
    "También podemos realizar operaciones con caracteres."
   ]
  },
  {
   "cell_type": "code",
   "execution_count": 7,
   "metadata": {},
   "outputs": [
    {
     "name": "stdout",
     "output_type": "stream",
     "text": [
      "Anita lavala Tina \n",
      "\n"
     ]
    }
   ],
   "source": [
    "d = \"Anita lava\"\n",
    "e = 'la Tina'\n",
    "c4 = d + e\n",
    "\n",
    "#La suma de caracteres resulta en una cadena\n",
    "print(c4,\"\\n\")\n"
   ]
  },
  {
   "cell_type": "code",
   "execution_count": 8,
   "metadata": {},
   "outputs": [
    {
     "name": "stdout",
     "output_type": "stream",
     "text": [
      "Anita lava la Tina \n",
      "\n"
     ]
    }
   ],
   "source": [
    "print(d+\" \"+e,\"\\n\")        #Concatenación\n"
   ]
  },
  {
   "cell_type": "code",
   "execution_count": 9,
   "metadata": {},
   "outputs": [
    {
     "name": "stdout",
     "output_type": "stream",
     "text": [
      "Anita lav\n"
     ]
    }
   ],
   "source": [
    "\n",
    "print(d[0:9])         #Recortes (Slicing)"
   ]
  },
  {
   "cell_type": "markdown",
   "metadata": {},
   "source": [
    "## Operadores de Comparación\n",
    "\n",
    "Los operadores de comparación se usan para evaluar expresiones que solo pueden tener 2 resultados, estos resultados son verdadero o falso (true o false). Se pueden utulizar en todas las expresiones excepto en las de los tipos de datos **text**, **ntex** o **image**.\n",
    "\n",
    "Lo podemos apreciar en el siguiente ejemplo:\n"
   ]
  },
  {
   "cell_type": "code",
   "execution_count": 10,
   "metadata": {},
   "outputs": [
    {
     "name": "stdout",
     "output_type": "stream",
     "text": [
      "True\n",
      "False\n",
      "True\n",
      "False\n",
      "True\n",
      "False\n"
     ]
    }
   ],
   "source": [
    "print(1<2) \n",
    "print(1>2)\n",
    "print(1<=2)\n",
    "print(1>=2)\n",
    "print(1!=2)\n",
    "print(1==2)"
   ]
  },
  {
   "cell_type": "markdown",
   "metadata": {},
   "source": [
    "También los podemos guardar en las variables y hacer operaciones."
   ]
  },
  {
   "cell_type": "code",
   "execution_count": 11,
   "metadata": {
    "scrolled": false
   },
   "outputs": [
    {
     "name": "stdout",
     "output_type": "stream",
     "text": [
      "True\n",
      "False\n",
      "False\n"
     ]
    }
   ],
   "source": [
    "a = 1<2 \n",
    "b = 3>200\n",
    "\n",
    "print(a)\n",
    "print(b)\n",
    "print(a==b)"
   ]
  },
  {
   "cell_type": "markdown",
   "metadata": {},
   "source": [
    "## Funciones\n",
    "\n",
    "Una función es una porción o bloque de código reutilizable que se encarga de realizar una determinada tarea.\n",
    "```python\n",
    "def Nombre_de_la_Funcion ( parametro1, ...):\n",
    "        \n",
    "        Bloque de codigo    #instrucciones\n",
    "        \n",
    "        return valor_deseado\n",
    "```"
   ]
  },
  {
   "cell_type": "code",
   "execution_count": 12,
   "metadata": {},
   "outputs": [
    {
     "name": "stdout",
     "output_type": "stream",
     "text": [
      "120\n"
     ]
    }
   ],
   "source": [
    "def factorial(n):\n",
    "    nf = 1\n",
    "    \n",
    "    for i in range(2,n+1):\n",
    "        nf*=i\n",
    "    return nf\n",
    "\n",
    "fa = factorial(5)\n",
    "print(fa)"
   ]
  },
  {
   "cell_type": "markdown",
   "metadata": {},
   "source": [
    "## Condicionales\n",
    "\n",
    "* La estructura de control **if ** permite que un programa ejecute las instrucciones cuando se cumplan una condición.\n",
    "* La estructura de control **if** -- **else**  permite que un programa ejecute unas instrucciones cuando se cumple una condición y otras instrucciones cuando no se cumple esa condición.\n",
    "* La estructura de control **if** -- **elif** -- **else** -- permite encadenar varias condiciones. \"elif\" es una contracción de **else if**\n",
    "\n",
    "Esta estruccturada de la siguiente manera:\n",
    "\n",
    "\n",
    "```python\n",
    "if condición:\n",
    "    bloque\n",
    "elif otra_condición :\n",
    "    otro_bloque\n",
    "elif otra_condición :\n",
    "    otro_bloque\n",
    "else :\n",
    "    último_bloque\n",
    "```"
   ]
  },
  {
   "cell_type": "markdown",
   "metadata": {},
   "source": [
    "#### Ejemplo: \n",
    "Escribe una función \"máximo(x,y,z)\" que regresa el mayor de los valores entre tres cantidades, sin utilizar la función max() de Python. Usando la función principal main()."
   ]
  },
  {
   "cell_type": "code",
   "execution_count": 13,
   "metadata": {},
   "outputs": [
    {
     "name": "stdout",
     "output_type": "stream",
     "text": [
      "Ingrese x: 5\n",
      "Ingrese y: 8\n",
      "Ingrese z: 9\n",
      "z =  9 es el mayor\n"
     ]
    }
   ],
   "source": [
    "def maximo(x,y,z):\n",
    "    if(x>y>z):\n",
    "        print (\"x = \", x, \"es el mayor\")\n",
    "\n",
    "    elif(y>z):\n",
    "        print(\"y = \", y, \"es el mayor\")\n",
    "\n",
    "    else:\n",
    "        print(\"z = \", z, \"es el mayor\")\n",
    "\n",
    "def main():\n",
    "    \n",
    "    x = (input(\"Ingrese x: \"))\n",
    "    y = (input(\"Ingrese y: \"))\n",
    "    z = (input(\"Ingrese z: \"))\n",
    "\n",
    "    maximo(x,y,z)\n",
    "\n",
    "if __name__ == '__main__':\n",
    "    main()"
   ]
  },
  {
   "cell_type": "markdown",
   "metadata": {},
   "source": [
    "## Ciclos\n",
    "\n",
    "En python hay solo dos tipos de loops o ciclos:\n",
    "\n",
    "### Ciclos while (indefinidos) \n",
    "\n",
    "Los ciclos while tienen la siguiente sintaxis:\n",
    "```python\n",
    "while(condición):\n",
    "    Bloque de codigo\n",
    "```\n",
    "    \n",
    "El bloque de código se ejecutará mientras se cumpla la condición (mientras sea verdadera).\n"
   ]
  },
  {
   "cell_type": "code",
   "execution_count": 14,
   "metadata": {},
   "outputs": [
    {
     "name": "stdout",
     "output_type": "stream",
     "text": [
      "n =  15\n"
     ]
    }
   ],
   "source": [
    "n = 0\n",
    "while n < 15:\n",
    "    n = n + 1\n",
    "print(\"n = \", n)"
   ]
  },
  {
   "cell_type": "markdown",
   "metadata": {},
   "source": [
    "### Cliclos for (definidos)\n",
    "\n",
    "La sintaxis del ciclo for es la siguiente:\n",
    "```python\n",
    "for variable in lista:\n",
    "    bloque de código\n",
    "```    \n",
    "El bloque de código se ejecutará mientras no acabe de recorrer la lista. El valor de variable será \n",
    "el item de la lista que está siendo tratado en el momento."
   ]
  },
  {
   "cell_type": "code",
   "execution_count": 15,
   "metadata": {},
   "outputs": [
    {
     "name": "stdout",
     "output_type": "stream",
     "text": [
      "i =  -5\n",
      "i =  -4\n",
      "i =  -3\n",
      "i =  -2\n",
      "i =  -1\n",
      "i =  0\n",
      "i =  1\n",
      "i =  2\n",
      "i =  3\n",
      "i =  4\n"
     ]
    }
   ],
   "source": [
    "for i in range(-5, 5):\n",
    "    print(\"i = \", i)"
   ]
  },
  {
   "cell_type": "markdown",
   "metadata": {},
   "source": [
    "Otro ejemplo pero en matrices:"
   ]
  },
  {
   "cell_type": "code",
   "execution_count": 16,
   "metadata": {},
   "outputs": [
    {
     "name": "stdout",
     "output_type": "stream",
     "text": [
      "2\n",
      "0.5\n",
      "9\n",
      "1\n",
      "12\n",
      "7\n",
      "3\n",
      "0\n",
      "4\n"
     ]
    }
   ],
   "source": [
    "matrix = [\n",
    "    [2,   1,  3],\n",
    "    [0.5, 12, 0],\n",
    "    [9,    7, 4]\n",
    "]\n",
    "n= len(matrix)\n",
    "for i in range(n):\n",
    "    for j in range(n):\n",
    "        print(matrix[j][i])"
   ]
  },
  {
   "cell_type": "markdown",
   "metadata": {},
   "source": [
    "## Librerías\n",
    "\n",
    "Para importar librerías se puede realizar de distintas formas y a continuación se mostrará.\n",
    "\n",
    "1.- Usar import: Se puede usar import de esta forma para importar un paquete o módulo:\n",
    "\n",
    "                        import package[.subpackage.[.module]]\n",
    "                        import package as variable\n",
    "\n",
    "2.- Usar from-import: Una de las diferencias entre esta forma y la anterior es la manera de acceder a las funciones del módulo importado: \n",
    "\n",
    "                        from package import module\n",
    "           \n",
    "\n",
    "3.- Usar from-import de forma directa: También es posible importar sólo lo más indispensable, como una variable o función, de un módulo. De esta forma, es posible acceder a la función directamente, sin necesidad de especificar el nombre del paquete ni del módulo:\n",
    "\n",
    "                        from package.module import function\n",
    "                    "
   ]
  },
  {
   "cell_type": "code",
   "execution_count": 17,
   "metadata": {},
   "outputs": [
    {
     "name": "stdout",
     "output_type": "stream",
     "text": [
      "2j\n"
     ]
    }
   ],
   "source": [
    "import cmath\n",
    "\n",
    "a = cmath.sqrt(-4)\n",
    "\n",
    "print(a)"
   ]
  },
  {
   "cell_type": "code",
   "execution_count": 18,
   "metadata": {},
   "outputs": [
    {
     "name": "stdout",
     "output_type": "stream",
     "text": [
      "3.141592653589793\n"
     ]
    }
   ],
   "source": [
    "from math import pi\n",
    "\n",
    "print(pi)"
   ]
  },
  {
   "cell_type": "code",
   "execution_count": 19,
   "metadata": {},
   "outputs": [
    {
     "name": "stdout",
     "output_type": "stream",
     "text": [
      "3.141592653589793\n"
     ]
    }
   ],
   "source": [
    "import math as m\n",
    "\n",
    "print(m.pi)"
   ]
  },
  {
   "cell_type": "markdown",
   "metadata": {},
   "source": [
    "## Matplotlib\n",
    "\n",
    "Es una biblioteca muy util para la generación de gráficos a partir de datos que están contenidos en **listas** o **arrays** en Python, en la cual encontraremos una extensión que es una biblioteca de funciones matemáticas de un gran alto nivel llamada **NumPy**, la cual nos hace recordar a Matlab.\n",
    "\n",
    "### ¿Qué es NumPy?\n",
    "Numpy es un modulo de Python muy usado en computo científico , su caracteriztica mas útil es su facilidad para manejo de arreglos $n$ dimensionales (vectores matrices, etc). Para poder usarlo primero debemos importarlo con la instrucción \n"
   ]
  },
  {
   "cell_type": "code",
   "execution_count": 20,
   "metadata": {},
   "outputs": [
    {
     "name": "stdout",
     "output_type": "stream",
     "text": [
      "[2, 5, 7, 9]\n",
      "[ 2.  5.  7.  9.]\n"
     ]
    }
   ],
   "source": [
    "'''Crea una matriz 1x1, en \"x\" para valores enteros y \n",
    "en \"y\" utilizando los valores de x pero queremos que sean flotantes'''\n",
    "from numpy import *\n",
    "\n",
    "x = [2,5,7,9]\n",
    "y = array(x, float)\n",
    "print(x)\n",
    "print(y)"
   ]
  },
  {
   "cell_type": "markdown",
   "metadata": {},
   "source": [
    "##### Producto interior"
   ]
  },
  {
   "cell_type": "code",
   "execution_count": 21,
   "metadata": {},
   "outputs": [
    {
     "name": "stdout",
     "output_type": "stream",
     "text": [
      "-23\n"
     ]
    }
   ],
   "source": [
    "x = array([-1, 3, -5])\n",
    "y = array([2,3,6])\n",
    "prod_punto = dot(x,y)\n",
    "print(prod_punto)"
   ]
  },
  {
   "cell_type": "markdown",
   "metadata": {},
   "source": [
    "##### Matriz por un vector"
   ]
  },
  {
   "cell_type": "code",
   "execution_count": 22,
   "metadata": {},
   "outputs": [
    {
     "name": "stdout",
     "output_type": "stream",
     "text": [
      "Matriz A: \n",
      "[[ 1  3  4]\n",
      " [-4 -2  0]\n",
      " [ 2  0  1]]\n",
      "------------------\n",
      "Producto Axb:\n",
      "[ 16. -12.   6.]\n"
     ]
    }
   ],
   "source": [
    "A = array([\n",
    "    [1,   3,  4],\n",
    "    [-4, -2,  0],\n",
    "    [2,   0,  1]\n",
    "    ])\n",
    "\n",
    "b = 2*ones(3)\n",
    "\n",
    "Ab = dot(A, b)\n",
    "print(\"Matriz A: \")\n",
    "print(A)\n",
    "print(\"------------------\")\n",
    "print(\"Producto Axb:\")\n",
    "print(Ab)"
   ]
  },
  {
   "cell_type": "markdown",
   "metadata": {},
   "source": [
    "**import numpy as np**\n",
    "vemos el siguiente ejemplo:"
   ]
  },
  {
   "cell_type": "code",
   "execution_count": 23,
   "metadata": {},
   "outputs": [
    {
     "data": {
      "text/plain": [
       "(4, 6)"
      ]
     },
     "execution_count": 23,
     "metadata": {},
     "output_type": "execute_result"
    }
   ],
   "source": [
    "import numpy as np \n",
    "a=np.array([2,4,6,8])\n",
    "a[1],a[2]"
   ]
  },
  {
   "cell_type": "markdown",
   "metadata": {},
   "source": [
    "Aquí vemos que el arreglo es como una lista , entonces ¿ que es lo hace a los arreglos de numpy tan especiales ?\n",
    "Hay tres mejoras de los arreglos de Numpy sobre las listas de Python que son :\n",
    "\n",
    "1. Ocupan menos memoria \n",
    "2. Son mas rápido de operar \n",
    "3. Su notación es mas sintetica\n",
    "\n",
    "Veamos una comparación entre la cantidad de memoria usada por una lista y un arreglo de numpy"
   ]
  },
  {
   "cell_type": "code",
   "execution_count": 24,
   "metadata": {},
   "outputs": [
    {
     "name": "stdout",
     "output_type": "stream",
     "text": [
      "28000\n",
      "8000\n"
     ]
    }
   ],
   "source": [
    "import numpy as np \n",
    "import sys\n",
    "\n",
    "l=range(1000)\n",
    "print(sys.getsizeof(12)*len(l)) #Encuentra el tamaño de un elemento y lo multiplica por 1000\n",
    "array=np.arange(1000)\n",
    "print(array.size*array.itemsize) #Multiplica el tamaño del elemento por el arreglo"
   ]
  },
  {
   "cell_type": "markdown",
   "metadata": {},
   "source": [
    "Es decir la lista ocupa 14000 bits mientras que el arreglo solo necesita 4000\n",
    "\n",
    "\n",
    "Ahora veamos la diferencia de tiempos al ejecutar una lista de python y un arreglo de Numpy:"
   ]
  },
  {
   "cell_type": "code",
   "execution_count": 25,
   "metadata": {},
   "outputs": [
    {
     "name": "stdout",
     "output_type": "stream",
     "text": [
      " A la lista le toma: 1651.2110233306885\n",
      "A numpy le toma 43.16258430480957\n"
     ]
    }
   ],
   "source": [
    "import numpy as np \n",
    "import time \n",
    "import sys\n",
    "\n",
    "SIZE =10000000\n",
    "\n",
    "l1=range(SIZE)\n",
    "l2=range(SIZE)\n",
    "\n",
    "a1=np.arange(SIZE)\n",
    "a2=np.arange(SIZE)\n",
    "\n",
    "#lISTA DE PYTHON\n",
    "start =time.time()\n",
    "result={(x+y) for x,y in zip(l1,l2)}\n",
    "print(' A la lista le toma:',(time.time()-start)*1000)\n",
    "\n",
    "#ARREGLO DE nUMPY\n",
    "start1 =time.time()\n",
    "result1=a1+a2\n",
    "print('A numpy le toma',(time.time()-start1)*1000)\n"
   ]
  },
  {
   "cell_type": "markdown",
   "metadata": {
    "collapsed": true
   },
   "source": [
    "### Graficas con Pylab\n",
    "\n",
    "En esta sección se explicarán técnicas para graficar en python y no morir en el intento. Para llevar a la práctica esto, será necesario tener intalada la librería *matplotlib* de python.\n",
    "\n",
    "En matemáticas, una trayectoria es una función definida de la siguiente manera:\n",
    "$$f:[a,\\; b]\\subset \\mathbb{R}\\longrightarrow \\mathbb{R}^2.$$\n",
    "Notemos que cualquier gráfica de una función real puede ser descrita a través de una trayectoria, es decir, la trayectoria que expresa el gráfico de una función $f$ dada en algún intervalo cerrado sería $\\alpha(x) = (x,\\; f(x))$ por ejemplo:\n",
    "\n",
    "El gráfico de:\n",
    "1. la parábola $f(x) = x^2$ puede ser expresado por $\\alpha(x) = (x,\\; x^2)$ con $x\\in [a,\\; b]$\n",
    "2. la senoidal $f(\\theta) = \\sin\\theta$ se expresa por $\\alpha(\\theta) = (\\theta,\\; \\sin\\theta)$ con $\\theta\\in [a,\\; b]$\n",
    "\n",
    "Considerando lo anterior podemos introducirnos en la sintaxis para realizar la gráfica de alguna función real. Usando la librería *pylab* la creación de un gráfico se hace con la función **plot(x, y, ...)** y se muestra con el comando **show()**.\n",
    "\n",
    "##### Ejemplo: \n",
    "Graficar en python la siguiente función $f(x) = x^2$ en el intervalo $[-1,\\; 1].$"
   ]
  },
  {
   "cell_type": "code",
   "execution_count": 26,
   "metadata": {},
   "outputs": [
    {
     "data": {
      "text/plain": [
       "<matplotlib.figure.Figure at 0x7f82faf33160>"
      ]
     },
     "metadata": {},
     "output_type": "display_data"
    }
   ],
   "source": [
    "import pylab as plt\n",
    "import numpy as np\n",
    "\n",
    "x = np.linspace(-1, 1, 100)\n",
    "y = x*x\n",
    "\n",
    "plt.plot(x, y)\n",
    "plt.show()\n"
   ]
  },
  {
   "cell_type": "markdown",
   "metadata": {},
   "source": [
    "En ocasiones nos gustaría graficar dos funciones en el mismo plano, ya sea del mismo color y el mismo tazo o no. Los siguientes ejemplos ilustran la problemática que describimos.\n",
    "\n",
    "##### Ejemplo:\n",
    "Graficar las funciones $f(\\theta) = \\sin \\theta$ y $g(\\theta) = \\cos \\theta $ para $\\theta \\in [0,\\; 2\\pi]$."
   ]
  },
  {
   "cell_type": "code",
   "execution_count": 27,
   "metadata": {},
   "outputs": [
    {
     "data": {
      "image/png": "[encoded data removed]",
      "text/plain": [
       "<matplotlib.figure.Figure at 0x7f82c60477b8>"
      ]
     },
     "metadata": {},
     "output_type": "display_data"
    }
   ],
   "source": [
    "import pylab as plt\n",
    "import numpy as np\n",
    "\n",
    "t = np.linspace(0, 2*np.pi, 100)\n",
    "y = np.sin(t)\n",
    "z = np.cos(t)\n",
    "\n",
    "plt.plot(t, y)\n",
    "plt.plot(t, z)\n",
    "\n",
    "plt.show()"
   ]
  },
  {
   "cell_type": "markdown",
   "metadata": {},
   "source": [
    "#### Subplot\n",
    "\n",
    "Eventualmente se requerirá graficar dos funciones en la misma ventana pero en diferentes planos, una manera de hacer esto es a través de la función *subplot(filas, columnas, fig_actual)*, donde *filas* y *columnas* es la cantidad de filas y columnas deseadas, respectivamente (tal como si se tratará de una tabla) y *fig_actual* es el número de la gráfica.\n",
    "\n",
    "##### Ejemplo:\n",
    "Graficar las funciones $f(x) = \\exp(x)$ y $g(x) = \\exp(x)\\sin x$ con $x\\in [0,\\; 5]$ en la misma ventana pero en diferentes planos."
   ]
  },
  {
   "cell_type": "code",
   "execution_count": 28,
   "metadata": {},
   "outputs": [
    {
     "data": {
      "image/png": "[encoded data removed]",
      "text/plain": [
       "<matplotlib.figure.Figure at 0x7f82c5ff6a90>"
      ]
     },
     "metadata": {},
     "output_type": "display_data"
    }
   ],
   "source": [
    "import pylab as plt\n",
    "import numpy as np\n",
    "\n",
    "x = np.linspace(0, 30, 150)\n",
    "\n",
    "y = np.exp(x)\n",
    "z = np.exp(x)*np.sin(10*x)\n",
    "\n",
    "# DOS filas, UNA columna\n",
    "# PRIMER grafica\n",
    "plt.subplot(2, 1, 1)\n",
    "plt.plot(x, y)\n",
    "\n",
    "# DOS filas, UNA columna\n",
    "# SEGUNDA grafica\n",
    "plt.subplot(2, 1, 2)\n",
    "plt.plot(x, z)\n",
    "\n",
    "plt.show()"
   ]
  },
  {
   "cell_type": "markdown",
   "metadata": {},
   "source": [
    "#### Estilos\n",
    "\n",
    "Ahora supongamos que se nos pide graficar en el mismo plano pero usando otro color y algún elemento que identifique a cada gráfico. A continuación se da un ejemplo que resultará muy útil.\n",
    "\n",
    "\n",
    "##### Ejemplo\n",
    "Grafique las funciones $f(\\theta) = \\sin \\theta$ y $g(\\theta) = \\cos \\theta $ para $\\theta \\in [0,\\; 2\\pi]$ utilizando estrellas verdes, líneas punteadas de color azul, etiquete cada función y pongale titulo a la grafica."
   ]
  },
  {
   "cell_type": "code",
   "execution_count": 29,
   "metadata": {},
   "outputs": [
    {
     "data": {
      "image/png": "[encoded data removed]",
      "text/plain": [
       "<matplotlib.figure.Figure at 0x7f82c62f7080>"
      ]
     },
     "metadata": {},
     "output_type": "display_data"
    }
   ],
   "source": [
    "import pylab as plt\n",
    "import numpy as np\n",
    "\n",
    "t = np.linspace(0, 2*np.pi, 50) # Se generan 50 va\n",
    "\n",
    "y = np.sin(t)\n",
    "z = np.cos(t)\n",
    "\n",
    "plt.plot(t, y, 'g*')  # verde y estrellas\n",
    "plt.plot(t, z, 'b.') # azul y bolas\n",
    "plt.show()"
   ]
  },
  {
   "cell_type": "markdown",
   "metadata": {},
   "source": [
    "#### Titulos, Leyendas y Etiquetas en LaTex\n",
    "Para identificar gráficos, muchas veces será preciso etiquetar cada una de las funciones que se muestran, además matplotlib tiene gran soporte para LaTeX. Todo lo que tenemos que hacer es utilizar los signos de pesos para encapsular codigo látex en cualquier texto (leyenda, título, etiqueta, etc).\n",
    "\n",
    "Suele ser un problema  sutil con el código de látex y las cadenas de texto de Python. En latex, utilizamos frecuentemente la barra diagonal inversa en comandos, por ejemplo \\alpha para producir el símbolo $\\alpha$. Pero la barra invertida ya tiene un significado en las cadenas de Python (el carácter de código de escape). Para evitar que Python estropee nuestro código de látex, necesitamos usar cadenas de texto simple (RAW) en las que se anteponen con una ' r ', como r \"\\alpha\" o r ' \\alpha ' en lugar de \"\\alpha\" o \"\\alpha\":\n",
    "\n",
    "\n",
    "***Ejemplo 1:***\n",
    "El siguiente ejemplo describe una problemática usualmente recurrente.\n",
    "\n"
   ]
  },
  {
   "cell_type": "code",
   "execution_count": 30,
   "metadata": {},
   "outputs": [
    {
     "data": {
      "image/png": "[encoded data removed]",
      "text/plain": [
       "<matplotlib.figure.Figure at 0x7f82c5f481d0>"
      ]
     },
     "metadata": {},
     "output_type": "display_data"
    }
   ],
   "source": [
    "import pylab as plt\n",
    "import numpy as np\n",
    "\n",
    "x = np.linspace(-50, 50, 200)\n",
    "\n",
    "y = x*np.sin(x)\n",
    "z = x\n",
    "\n",
    "# Etiquetas en latex\n",
    "plt.plot(x, y, label = \"$f(x) = x\\sin x$\")\n",
    "plt.plot(x, -z, label = \"$h(x) = -x$\")\n",
    "\n",
    "# Etiqueta texto plano\n",
    "plt.plot(x, z, label = \"Función identidad\")\n",
    "\n",
    "# Posición de la leyenda\n",
    "plt.legend(loc='upper center')\n",
    "\n",
    "# Título\n",
    "plt.title(\"Título del Gráfico\")\n",
    "\n",
    "plt.show()"
   ]
  },
  {
   "cell_type": "markdown",
   "metadata": {},
   "source": [
    "***Ejemplo 2:***\n",
    "Existe otra manera de plotear los datos, en la cual utilizamos la función **ax.**\n",
    "El siguiente ejemplo nos dará una mayor visualización:"
   ]
  },
  {
   "cell_type": "code",
   "execution_count": 31,
   "metadata": {},
   "outputs": [],
   "source": [
    "%matplotlib inline\n",
    "\n",
    "import numpy as np\n",
    "import matplotlib.pyplot as plt\n"
   ]
  },
  {
   "cell_type": "code",
   "execution_count": 32,
   "metadata": {},
   "outputs": [
    {
     "data": {
      "image/png": "[encoded data removed]",
      "text/plain": [
       "<matplotlib.figure.Figure at 0x7f82c5e15470>"
      ]
     },
     "metadata": {},
     "output_type": "display_data"
    }
   ],
   "source": [
    "\n",
    "fig, ax = plt.subplots()\n",
    "#x=[0,.5,1.,1.5,2.,2.5,3.,3.5,4.,4.5,5.,5.5,6.,6.5,7.,7.5,8.,8.5,9.,9.5,10.]\n",
    "x=np.linspace(0,10,20)\n",
    "ax.plot(x, x**2, label=r\"$y = \\alpha^2$\")\n",
    "ax.plot(x, x**3, label=r\"$y = \\alpha^3$\")\n",
    "ax.legend(loc=2) # esquina superior izquierda\n",
    "ax.set_xlabel(r'$\\alpha$')\n",
    "ax.set_ylabel(r'$y$')\n",
    "ax.set_title(r'las graficas de $x^2$ y $x^3$' );"
   ]
  },
  {
   "cell_type": "markdown",
   "metadata": {},
   "source": [
    "***Ejemplo 3:*** \n",
    "En el siguiente ejemplo se muestra como insertar otra función en una misma grafica."
   ]
  },
  {
   "cell_type": "code",
   "execution_count": 33,
   "metadata": {},
   "outputs": [
    {
     "data": {
      "image/png": "[encoded data removed]",
      "text/plain": [
       "<matplotlib.figure.Figure at 0x7f82c5e154e0>"
      ]
     },
     "metadata": {},
     "output_type": "display_data"
    }
   ],
   "source": [
    "x=np.linspace(0,5,10)\n",
    "y=x**2\n",
    "fig = plt.figure()\n",
    "\n",
    "axes1 = fig.add_axes([0.1, 0.1, 0.8, 0.8]) # ejes principales\n",
    "axes2 = fig.add_axes([0.2, 0.5, 0.4, 0.3]) # ejes de inserción\n",
    "\n",
    "#Ploteo \n",
    "axes1.plot(x, y, 'r')\n",
    "axes1.set_xlabel('x')\n",
    "axes1.set_ylabel('y')\n",
    "axes1.set_title('title')\n",
    "\n",
    "# Inserción\n",
    "axes2.plot(y, x, 'g')\n",
    "axes2.set_xlabel('y')\n",
    "axes2.set_ylabel('x')\n",
    "axes2.set_title('insert title');"
   ]
  },
  {
   "cell_type": "markdown",
   "metadata": {},
   "source": [
    "***Ejemplo 4:*** \n",
    "En este ejemplo nos muestra como crear una malla y sus divisiones."
   ]
  },
  {
   "cell_type": "code",
   "execution_count": 34,
   "metadata": {},
   "outputs": [
    {
     "data": {
      "image/png": "[encoded data removed]",
      "text/plain": [
       "<matplotlib.figure.Figure at 0x7f82c5e51630>"
      ]
     },
     "metadata": {},
     "output_type": "display_data"
    }
   ],
   "source": [
    "%matplotlib inline\n",
    "import matplotlib.pyplot as plt\n",
    "import numpy as np\n",
    "\n",
    "x=np.linspace(0,2*np.pi,20)\n",
    "y=np.sin(x)\n",
    "z=np.cos(x)\n",
    "fig, ax = plt.subplots()\n",
    "\n",
    "#En esta sección dividimos la malla del eje x y y\n",
    "ax.set_xticks([0,np.pi/4,np.pi/2,3*np.pi/4, np.pi, 5*np.pi/4])\n",
    "yticks = [-1, 0, 1]\n",
    "ax.set_yticks(yticks)\n",
    "\n",
    "#Se plotea las trayectorias\n",
    "ax.plot(x, y, label=\"$y = sen(x)$\")\n",
    "ax.plot(x, z, label=\"$y = cos(x)$\")\n",
    "\n",
    "\n",
    "ax.legend(loc=3); # esquina superior derecha\n",
    "\n",
    "ax.set_xticklabels([r'$0$', r'$\\pi/4$', r'$\\pi/2$'], fontsize=12)\n",
    "ax.set_xlabel(r'$\\alpha$')\n",
    "ax.set_ylabel('$y$')\n",
    "\n",
    "ax.set_title('$seno$ y $coseno$');\n",
    "\n",
    "ax.grid(True)"
   ]
  },
  {
   "cell_type": "code",
   "execution_count": 35,
   "metadata": {},
   "outputs": [
    {
     "data": {
      "image/png": "[encoded data removed]",
      "text/plain": [
       "<matplotlib.figure.Figure at 0x7f82c5dc6588>"
      ]
     },
     "metadata": {},
     "output_type": "display_data"
    }
   ],
   "source": [
    "import numpy as np\n",
    "import matplotlib.pyplot as plt\n",
    "\n",
    "x = np.linspace(-4.1, 8.1, 50)\n",
    "y = 3 / (x-2)\n",
    "y1 = 2*np.ones(50)\n",
    "\n",
    "fig, ax = plt.subplots()\n",
    "\n",
    "ax.set_xticks([2])\n",
    "#yticks = [-1, 0, 1]\n",
    "#ax.set_yticks(yticks\n",
    "\n",
    "\n",
    "plt.plot(y1, x)\n",
    "plt.plot(x,y)\n",
    "\n",
    "plt.grid(True)\n",
    "\n",
    "plt.show()\n"
   ]
  },
  {
   "cell_type": "markdown",
   "metadata": {},
   "source": [
    "### Funciones por partes (Trozos)\n",
    "\n",
    "Una función definida es aquella que no esta definida por una sola ecuación, puede tener alrededor de dos o más ecuaciones en algún intervalo. \n",
    "\n",
    "Como se muestra en el ejercicio siguiente.\n",
    "\n",
    "##### Ejermplo 1: Grafique la función a trozos\n",
    "$$f(x)= \\left\\{ \\begin{array}{lcc}\n",
    "             -x &   si  & x < 0 \\\\\n",
    "             \\\\ x^2 &  si & 0 \\leq x < 1 \\\\\n",
    "             \\\\ x(\\cos{1-x}) &  si  & x > 0\n",
    "             \\end{array}\n",
    "   \\right.\n",
    "   $$\n"
   ]
  },
  {
   "cell_type": "markdown",
   "metadata": {},
   "source": [
    "Una de las maneras mas sencillas para graficar la función, es definiendo una función con las condiciones necesarias. Lo que sigue, es definir nuestro rango y a continuación con la función ***map*** le aplicamos a la función cada argumento de x y para finalizar solo ploteamos.\n"
   ]
  },
  {
   "cell_type": "code",
   "execution_count": 36,
   "metadata": {},
   "outputs": [
    {
     "data": {
      "text/plain": [
       "[<matplotlib.lines.Line2D at 0x7f82c5dfb470>]"
      ]
     },
     "execution_count": 36,
     "metadata": {},
     "output_type": "execute_result"
    },
    {
     "data": {
      "image/png": "[encoded data removed]",
      "text/plain": [
       "<matplotlib.figure.Figure at 0x7f82c6c4ff60>"
      ]
     },
     "metadata": {},
     "output_type": "display_data"
    }
   ],
   "source": [
    "%matplotlib inline  \n",
    "\n",
    "import numpy as np\n",
    "from pylab import plot, show\n",
    "\n",
    "def f(x):\n",
    "    if x <0:\n",
    "        return -x\n",
    "    if (x >= 0) & (x < 1):\n",
    "        return x*x\n",
    "    \n",
    "    return x*np.cos(1-x)\n",
    "\n",
    "x = np.linspace(-10, 10)\n",
    "y = list(map(f, x))\n",
    "\n",
    "plot(x, y)"
   ]
  },
  {
   "cell_type": "markdown",
   "metadata": {},
   "source": [
    "##### Ejermplo 2: Grafique la función a trozos\n",
    "$$f(x)= \\left\\{ \\begin{array}{lcc}\n",
    "             x - n &   si  & n\\leq x \\leq n+1 \\\\\n",
    "             \\\\ 2 -x + n &  si & n+1 \\leq x \\leq n+2 \\\\\n",
    "             \\\\ 0 &  si  & x > 0\n",
    "             \\end{array}\n",
    "   \\right.\n",
    "    $$"
   ]
  },
  {
   "cell_type": "markdown",
   "metadata": {},
   "source": [
    "Otra manera para realizar la función a trozos, es utilizando la función ***vectorize***  su función es tomar una secuencia anidada de objetos y devuelve una tupla de array como salida, lo mismo que hace la función ***map***."
   ]
  },
  {
   "cell_type": "code",
   "execution_count": 37,
   "metadata": {},
   "outputs": [
    {
     "data": {
      "image/png": "[encoded data removed]",
      "text/plain": [
       "<matplotlib.figure.Figure at 0x7f82c5e355f8>"
      ]
     },
     "metadata": {},
     "output_type": "display_data"
    }
   ],
   "source": [
    "import numpy as np\n",
    "import matplotlib.pyplot as plt \n",
    "\n",
    "#Definimos nuestra función\n",
    "def f(n, x): \n",
    "    if n <= x <= n + 1:\n",
    "        return float(x) - n \n",
    "    elif n + 1 <= x <= n + 2:\n",
    "        return 2.0 - x + n \n",
    "    return 0.0 \n",
    "\n",
    "#Utilizamos la función vectorize para \n",
    "vf = np.vectorize(f)\n",
    "\n",
    "x = np.linspace(0, 10, 1000)    \n",
    "y = vf(3, x)\n",
    "\n",
    "plt.plot(x, y, 'g-')\n",
    "plt.show()"
   ]
  },
  {
   "cell_type": "markdown",
   "metadata": {},
   "source": [
    "### Área bajo la Curva"
   ]
  },
  {
   "cell_type": "code",
   "execution_count": 38,
   "metadata": {},
   "outputs": [
    {
     "data": {
      "text/plain": [
       "<matplotlib.collections.PolyCollection at 0x7f82c5d4b898>"
      ]
     },
     "execution_count": 38,
     "metadata": {},
     "output_type": "execute_result"
    },
    {
     "data": {
      "image/png": "[encoded data removed]",
      "text/plain": [
       "<matplotlib.figure.Figure at 0x7f82c5d4b7b8>"
      ]
     },
     "metadata": {},
     "output_type": "display_data"
    }
   ],
   "source": [
    "%matplotlib inline\n",
    "\n",
    "import pylab as plt\n",
    "import numpy as np\n",
    "\n",
    "x = np.linspace(-1, 1, 100)\n",
    "\n",
    "y = x*x\n",
    "y1 = -x*x\n",
    "\n",
    "plt.plot(x,y)\n",
    "plt.fill_between(x, y1, y)"
   ]
  },
  {
   "cell_type": "code",
   "execution_count": 39,
   "metadata": {},
   "outputs": [
    {
     "data": {
      "image/png": "[encoded data removed]",
      "text/plain": [
       "<matplotlib.figure.Figure at 0x7f82c5ed97b8>"
      ]
     },
     "metadata": {},
     "output_type": "display_data"
    }
   ],
   "source": [
    "%matplotlib inline\n",
    "\n",
    "import pylab as plt\n",
    "import numpy as np\n",
    "\n",
    "#f = lambda x: -np.cos(x)\n",
    "f = lambda x: x*np.cos(x) + 10\n",
    "π = np.pi\n",
    "\n",
    "x = np.linspace(0, 2*π, 100)\n",
    "y = f(x)\n",
    "\n",
    "punto = π\n",
    "ɛ = 0.5\n",
    "\n",
    "interval = np.linspace(punto-ɛ, punto+ɛ, 50)\n",
    "\n",
    "# grafica toda función en el dominio\n",
    "plt.plot(x,y, 'r')\n",
    "# grafica punto\n",
    "plt.plot([punto, punto], [0,f(punto)], 'go--')\n",
    "\n",
    "# grafica el área de la función en el intervalo\n",
    "# dado\n",
    "#plt.fill_between(interval, 0, f(interval), facecolor='violet')\n",
    "plt.fill_between(interval, 0, f(interval), facecolor='white')\n",
    "plt.grid(True)"
   ]
  },
  {
   "cell_type": "code",
   "execution_count": 40,
   "metadata": {
    "scrolled": false
   },
   "outputs": [
    {
     "name": "stdout",
     "output_type": "stream",
     "text": [
      "x0 =  1 ; epsilon deseado:  0.001  delta =  0.0005\n",
      "Los puntos x que están a una distancia de x0 menor que  0.0005\n",
      "cumplen que |f(x)-f(x0)|< 0.0005  y aparecen marcados con #\n",
      "\n",
      "\n",
      "   x        |x - x0|  |f(x) - f(x0)|\n",
      "_________________________________\n",
      " 0.99925     0.00075     0.00150\n",
      " 0.99933     0.00067     0.00135\n",
      " 0.99940     0.00060     0.00120\n",
      " 0.99948     0.00052     0.00105\n",
      " 0.99955     0.00045     0.00090#\n",
      " 0.99962     0.00038     0.00075#\n",
      " 0.99970     0.00030     0.00060#\n",
      " 0.99977     0.00023     0.00045#\n",
      " 0.99985     0.00015     0.00030#\n",
      " 0.99992     0.00008     0.00015#\n",
      " 1.00000     0.00000     0.00000#\n",
      " 1.00008     0.00008     0.00015#\n",
      " 1.00015     0.00015     0.00030#\n",
      " 1.00022     0.00022     0.00045#\n",
      " 1.00030     0.00030     0.00060#\n",
      " 1.00038     0.00038     0.00075#\n",
      " 1.00045     0.00045     0.00090#\n",
      " 1.00053     0.00053     0.00105\n",
      " 1.00060     0.00060     0.00120\n",
      " 1.00067     0.00067     0.00135\n",
      " 1.00075     0.00075     0.00150\n"
     ]
    },
    {
     "data": {
      "image/png": "[encoded data removed]",
      "text/plain": [
       "<matplotlib.figure.Figure at 0x7f82c5fe0400>"
      ]
     },
     "metadata": {},
     "output_type": "display_data"
    }
   ],
   "source": [
    "import numpy as np\n",
    "import matplotlib.pyplot as plt\n",
    "\n",
    "\n",
    "f = lambda x: x**2\n",
    "\n",
    "x0 = 1\n",
    "epsilon = 1e-3  # valor deseado de |f(x)-f(x0)|\n",
    "delta = abs((epsilon / 2) * x0)\n",
    "\n",
    "print ('x0 = ', x0, '; epsilon deseado: ', epsilon, ' delta = ', delta)\n",
    "print ('Los puntos x que están a una distancia de x0 menor que ', delta)\n",
    "print ('cumplen que |f(x)-f(x0)|<', delta, ' y aparecen marcados con #')\n",
    "print\n",
    "\n",
    "numpuntos = 20\n",
    "\n",
    "a = x0 - 1.5 * delta\n",
    "b = x0 + 1.5 * delta\n",
    "\n",
    "x = np.linspace(a, b, numpuntos + 1)\n",
    "y = np.zeros(numpuntos+1, float)\n",
    "\n",
    "\n",
    "print(\"\\n\")\n",
    "print ('   x' + '        ' + '|x - x0|' +\n",
    "\t\t\t ' ' + ' |f(x) - f(x0)|')\n",
    "print ('_________________________________')\n",
    "\n",
    "\n",
    "for i in range(0, numpuntos + 1):\n",
    "\ty[i]=x[i]**2\n",
    "\t\n",
    "\tdifX = abs(x[i] - x0)\n",
    "\n",
    "\tdifY = abs(y[i] - x0 ** 2)\n",
    "\n",
    "\tif difY < epsilon:\n",
    "\t\tmarca = '#'\n",
    "\t\te  = difY\n",
    "\n",
    "\t\tplt.plot(x[i], e, 'go')\n",
    "\telse:\n",
    "\n",
    "\t\tmarca = ''\n",
    "\t\tf= difY\n",
    "\t\tplt.plot(x[i], f, 'ro')\n",
    "\t\t\t\n",
    "\n",
    "\tprint (\"%8.5f\" % x[i] + '    ' +\n",
    "\t\t\t\t\"%8.5f\" % difX + '    ' +\n",
    "\t\t\t\t \"%8.5f\" % difY + marca)\n",
    "\n",
    "plt.grid(True)\n",
    "plt.show()"
   ]
  },
  {
   "cell_type": "code",
   "execution_count": 41,
   "metadata": {},
   "outputs": [
    {
     "name": "stdout",
     "output_type": "stream",
     "text": [
      "x0 =  3 ; epsilon deseado:  3  delta =  4.5\n",
      "Los puntos x que están a una distancia de x0 menor que  4.5\n",
      "cumplen que |f(x)-f(x0)|< 4.5  y aparecen marcados con #\n",
      "\n",
      "\n",
      "   x        |x - x0|  |f(x) - f(x0)|\n",
      "_________________________________\n",
      "-3.75000     6.75000     5.06250\n",
      "-3.07500     6.07500     0.45563#\n",
      "-2.40000     5.40000     3.24000\n",
      "-1.72500     4.72500     6.02438\n",
      "-1.05000     4.05000     7.89750\n",
      "-0.37500     3.37500     8.85938\n",
      " 0.30000     2.70000     8.91000\n",
      " 0.97500     2.02500     8.04937\n",
      " 1.65000     1.35000     6.27750\n",
      " 2.32500     0.67500     3.59437\n",
      " 3.00000     0.00000     0.00000#\n",
      " 3.67500     0.67500     4.50563\n",
      " 4.35000     1.35000     9.92250\n",
      " 5.02500     2.02500    16.25063\n",
      " 5.70000     2.70000    23.49000\n",
      " 6.37500     3.37500    31.64062\n",
      " 7.05000     4.05000    40.70250\n",
      " 7.72500     4.72500    50.67563\n",
      " 8.40000     5.40000    61.56000\n",
      " 9.07500     6.07500    73.35563\n",
      " 9.75000     6.75000    86.06250\n"
     ]
    },
    {
     "data": {
      "image/png": "[encoded data removed]",
      "text/plain": [
       "<matplotlib.figure.Figure at 0x7f82c5b508d0>"
      ]
     },
     "metadata": {},
     "output_type": "display_data"
    }
   ],
   "source": [
    "import numpy as np\n",
    "import matplotlib.pyplot as plt\n",
    "\n",
    "x0 = 3\n",
    "epsilon = 3  # valor deseado de |f(x)-f(x0)|\n",
    "delta = abs((epsilon / 2) * x0)\n",
    "\n",
    "print ('x0 = ', x0, '; epsilon deseado: ', epsilon, ' delta = ', delta)\n",
    "print ('Los puntos x que están a una distancia de x0 menor que ', delta)\n",
    "print ('cumplen que |f(x)-f(x0)|<', delta, ' y aparecen marcados con #')\n",
    "print\n",
    "\n",
    "numpuntos = 20\n",
    "\n",
    "a = x0 - 1.5 * delta\n",
    "b = x0 + 1.5 * delta\n",
    "\n",
    "x = np.linspace(a, b, numpuntos + 1)\n",
    "f = lambda x: x**2\n",
    "\n",
    "\n",
    "\n",
    "y = f(x)\n",
    "plt.plot(x,y)\n",
    "\n",
    "print(\"\\n\")\n",
    "print ('   x' + '        ' + '|x - x0|' +\n",
    "\t\t\t ' ' + ' |f(x) - f(x0)|')\n",
    "print ('_________________________________')\n",
    "\n",
    "\n",
    "#y = np.zeros(numpuntos+1, float)\n",
    "ceros = np.zeros(numpuntos+1, float)\n",
    "for i in range(0, numpuntos + 1):\n",
    "\t\n",
    "\tdifX = abs(x[i] - x0)\n",
    "\n",
    "\tdifY = abs(x[i]**2 - x0 ** 2)\n",
    "\n",
    "\tif difY < epsilon:\n",
    "\t\tmarca = '#'\n",
    "\t\te  = difY\n",
    "\n",
    "\t\tplt.plot([x[i]], [y[i]], 'go')\n",
    "\t\tplt.plot(x[i], ceros[i], 'go')\n",
    "\telse:\n",
    "\n",
    "\t\tmarca = ''\n",
    "\t\tf= difY\n",
    "\t\tplt.plot([x[i]], [y[i]], 'ro')\n",
    "\t\tplt.plot(x[i], ceros[i], 'ro')\t\n",
    "\tprint (\"%8.5f\" % x[i] + '    ' +\n",
    "\t\t\t\t\"%8.5f\" % difX + '    ' +\n",
    "\t\t\t\t \"%8.5f\" % difY + marca)\n",
    "\n",
    "\tplt.plot([x[i], x[i]], [ceros[i],y[i]], 'k--')\n",
    "\n",
    "\t\n",
    "plt.grid(True)\n",
    "plt.show()"
   ]
  },
  {
   "cell_type": "code",
   "execution_count": 42,
   "metadata": {},
   "outputs": [
    {
     "data": {
      "image/png": "[encoded data removed]",
      "text/plain": [
       "<matplotlib.figure.Figure at 0x7f8319884198>"
      ]
     },
     "metadata": {},
     "output_type": "display_data"
    }
   ],
   "source": [
    "import numpy as np\n",
    "import matplotlib.pyplot as plt\n",
    "\n",
    "f = lambda x: x**2\n",
    "\n",
    "#x = np.linspace(1, 2, 20)\n",
    "y = f(x)\n",
    "\n",
    "plt.plot(x,y)\n",
    "plt.show()\n",
    "\n"
   ]
  },
  {
   "cell_type": "markdown",
   "metadata": {},
   "source": [
    "## Ejercicios Propuestos\n",
    "\n",
    "*  Definir una función triangular (n) que devuelve la suma 1 + 2 + 3 + · · · + n. Luego escriba un programa triangular.py que imprima una tabla de valores de triangular (n) para n = 1, 2, 3,. . . , 20. **[1]** \n",
    "\n",
    "\n",
    "*  Escribe una función mediana3 (x, y, z) que devuelve el valor medio entre x, y, y z. (Si dos de los valores pasan a ser los mismos, ese valor es la mediana.) No utilice ninguna función de clasificación integrada de Python. Escribe un main() que prueba tu función. **[1]**\n",
    "\n",
    "\n",
    "* Escribir una función sort3 (x, y, z) que devuelve los tres valores x, y, yz en orden (a, b, c), donde a ≤ b ≤ c. No utilice ninguna de las funciones de clasificación de Python, pero puede poner si las declaraciones. Escribe un main () que comprueba a fondo tu función. **[1]**"
   ]
  },
  {
   "cell_type": "markdown",
   "metadata": {},
   "source": [
    "# Sympy\n",
    "\n",
    "Sympy es una biblioteca de Python para matemática simbólica. Su objetivo es dar alternaticas a los softwares comerciales como Mathematica, Maple, etc., manteniendo un codigo simple.\n",
    "\n",
    "## Límites\n",
    "En matemáticos uno de los conceptos más importandes del Cálculo es el límite, con Python podemos resolverlos de una manera simple  utilizando la librería SymPy, la cual nos proporciona el objeto:\n",
    "```python \n",
    "Limit(función, variable, punto)\n",
    "```\n",
    "\n",
    "Teniendo esta función se crea el límite deseado, por ejemplo:\n",
    "\n",
    "Calcular el límite de $\\displaystyle\\lim_{x \\to{0}}{f(x)}$, con la función dada se debe escribir de la siguiente manera:\n",
    "\n",
    "```python\n",
    "Limit(f(x), x, 0)\n",
    "```\n",
    "\n",
    "También podemos imprimir nuestro límite con notación matemática y en el siguiente ejemplo de visualizará de una mejor manera."
   ]
  },
  {
   "cell_type": "markdown",
   "metadata": {},
   "source": [
    "**Ejemplo:** Calcular los siguientes límites\n",
    "\n",
    "- $\\displaystyle\\lim_{x \\to{1}}{\\frac{-1-x}{-1+\\sqrt{x}}}$\n"
   ]
  },
  {
   "cell_type": "code",
   "execution_count": 43,
   "metadata": {},
   "outputs": [],
   "source": [
    "%matplotlib inline\n",
    "from sympy.interactive import printing\n",
    "from sympy import Limit, limit, Symbol, S\n",
    "from sympy.functions import sqrt, sin\n",
    "from sympy.plotting import plot"
   ]
  },
  {
   "cell_type": "code",
   "execution_count": 44,
   "metadata": {},
   "outputs": [
    {
     "data": {
      "image/png": "[encoded data removed]",
      "text/plain": [
       "<matplotlib.figure.Figure at 0x7f82c4c09748>"
      ]
     },
     "metadata": {},
     "output_type": "display_data"
    },
    {
     "data": {
      "text/latex": [
       "$$\\lim_{x \\to 1^+}\\left(\\frac{x - 1}{\\sqrt{x} - 1}\\right)$$"
      ],
      "text/plain": [
       "     ⎛x - 1 ⎞\n",
       " lim ⎜──────⎟\n",
       "x─→1⁺⎝√x - 1⎠"
      ]
     },
     "execution_count": 44,
     "metadata": {},
     "output_type": "execute_result"
    }
   ],
   "source": [
    "# imprimir con notación matemática.\n",
    "printing.init_printing(use_latex='mathjax') \n",
    "\n",
    "# Creando el simbolo x\n",
    "x = Symbol('x')\n",
    "\n",
    "# Creando la función f(x)\n",
    "f = lambda x: (-1+x )/ (-1 + sqrt(x))\n",
    "\n",
    "# Creando el objeto Limite\n",
    "\n",
    "plot(f(x))\n",
    "\n",
    "Limit(f(x), x, 1) "
   ]
  },
  {
   "cell_type": "markdown",
   "metadata": {},
   "source": [
    "Teniendo nuestro límite, utilizamos la función ```.doit()``` para resolverlo."
   ]
  },
  {
   "cell_type": "code",
   "execution_count": 45,
   "metadata": {},
   "outputs": [
    {
     "data": {
      "text/latex": [
       "$$2$$"
      ],
      "text/plain": [
       "2"
      ]
     },
     "execution_count": 45,
     "metadata": {},
     "output_type": "execute_result"
    }
   ],
   "source": [
    "Limit(f(x), x, 1).doit()"
   ]
  },
  {
   "cell_type": "markdown",
   "metadata": {},
   "source": [
    "Otra manera de resolver el límite es utilizando solo la función \n",
    "```python\n",
    "limit(función, variable, punto) \n",
    "```"
   ]
  },
  {
   "cell_type": "code",
   "execution_count": 46,
   "metadata": {},
   "outputs": [
    {
     "data": {
      "text/latex": [
       "$$2$$"
      ],
      "text/plain": [
       "2"
      ]
     },
     "execution_count": 46,
     "metadata": {},
     "output_type": "execute_result"
    }
   ],
   "source": [
    "limit(f(x), x, 1)"
   ]
  },
  {
   "cell_type": "markdown",
   "metadata": {},
   "source": [
    "**Ejemplo:** Calcular los siguientes límites\n",
    "\n",
    "- $\\displaystyle\\lim_{x \\to{0}}{\\frac{|x|}{\\sin{x}}}$\n",
    "\n",
    "Al utilizar la función ``` Limit ``` ó ``` limit ``` la dirección de x siempre será positiva, si queremos que vaya a una dirección negativa, además de agregar el valor donde tiende también se debe indicar la dirección. "
   ]
  },
  {
   "cell_type": "code",
   "execution_count": 47,
   "metadata": {
    "scrolled": true
   },
   "outputs": [
    {
     "data": {
      "text/latex": [
       "$$\\lim_{x \\to 0^+}\\left(\\frac{\\left|{x}\\right|}{\\sin{\\left (x \\right )}}\\right)$$"
      ],
      "text/plain": [
       "     ⎛ │x│  ⎞\n",
       " lim ⎜──────⎟\n",
       "x─→0⁺⎝sin(x)⎠"
      ]
     },
     "execution_count": 47,
     "metadata": {},
     "output_type": "execute_result"
    }
   ],
   "source": [
    "printing.init_printing(use_latex='mathjax') \n",
    "\n",
    "x = Symbol('x')\n",
    "\n",
    "f = lambda x: abs(x)/sin(x)\n",
    "\n",
    "# Creando el objeto Limite\n",
    "Limit(f(x), x, 0) \n"
   ]
  },
  {
   "cell_type": "code",
   "execution_count": 48,
   "metadata": {},
   "outputs": [
    {
     "data": {
      "text/latex": [
       "$$1$$"
      ],
      "text/plain": [
       "1"
      ]
     },
     "execution_count": 48,
     "metadata": {},
     "output_type": "execute_result"
    }
   ],
   "source": [
    "Limit(f(x), x, 0).doit()"
   ]
  },
  {
   "cell_type": "markdown",
   "metadata": {},
   "source": [
    "Se resolverá el límite para la dirección negativa"
   ]
  },
  {
   "cell_type": "code",
   "execution_count": 49,
   "metadata": {},
   "outputs": [
    {
     "data": {
      "text/latex": [
       "$$\\lim_{x \\to 0^-}\\left(\\frac{\\left|{x}\\right|}{\\sin{\\left (x \\right )}}\\right)$$"
      ],
      "text/plain": [
       "     ⎛ │x│  ⎞\n",
       " lim ⎜──────⎟\n",
       "x─→0⁻⎝sin(x)⎠"
      ]
     },
     "execution_count": 49,
     "metadata": {},
     "output_type": "execute_result"
    }
   ],
   "source": [
    "Limit(f(x), x, 0, dir='-')"
   ]
  },
  {
   "cell_type": "code",
   "execution_count": 50,
   "metadata": {},
   "outputs": [
    {
     "data": {
      "text/latex": [
       "$$-1$$"
      ],
      "text/plain": [
       "-1"
      ]
     },
     "execution_count": 50,
     "metadata": {},
     "output_type": "execute_result"
    }
   ],
   "source": [
    "Limit(f(x), x, 0, dir='-').doit()"
   ]
  },
  {
   "cell_type": "markdown",
   "metadata": {},
   "source": [
    "### Continuidad"
   ]
  },
  {
   "cell_type": "code",
   "execution_count": 51,
   "metadata": {},
   "outputs": [
    {
     "data": {
      "text/latex": [
       "$$\\lim_{x \\to 0^+} \\sin{\\left (\\frac{1}{x} \\right )}$$"
      ],
      "text/plain": [
       "        ⎛1⎞\n",
       " lim sin⎜─⎟\n",
       "x─→0⁺   ⎝x⎠"
      ]
     },
     "execution_count": 51,
     "metadata": {},
     "output_type": "execute_result"
    }
   ],
   "source": [
    "from sympy.interactive import printing\n",
    "from sympy import Limit, limit, Symbol, S\n",
    "from sympy.functions import sqrt, sin\n",
    "\n",
    "printing.init_printing(use_latex='mathjax') \n",
    "\n",
    "x = Symbol('x')\n",
    "\n",
    "f = lambda x: (sin(1/x))\n",
    "\n",
    "# Creando el objeto Limite\n",
    "Limit(f(x), x, 0) \n"
   ]
  },
  {
   "cell_type": "code",
   "execution_count": 52,
   "metadata": {},
   "outputs": [
    {
     "data": {
      "text/latex": [
       "$$\\langle -1, 1\\rangle$$"
      ],
      "text/plain": [
       "<-1, 1>"
      ]
     },
     "execution_count": 52,
     "metadata": {},
     "output_type": "execute_result"
    }
   ],
   "source": [
    "limit(f(x), x, 0)"
   ]
  },
  {
   "cell_type": "markdown",
   "metadata": {},
   "source": [
    "### Límites de Secuencia:\n",
    "Proporciona métodos para calcular el límite de términos que tienen secuencias en el infinito.\n",
    "\n",
    "**Ejemplo:** Calcular los siguientes límites\n",
    "\n",
    "1. $\\displaystyle\\lim_{x \\to{\\infty}}{\\frac{1}{x}}$"
   ]
  },
  {
   "cell_type": "code",
   "execution_count": 53,
   "metadata": {},
   "outputs": [
    {
     "data": {
      "text/latex": [
       "$$0$$"
      ],
      "text/plain": [
       "0"
      ]
     },
     "execution_count": 53,
     "metadata": {},
     "output_type": "execute_result"
    }
   ],
   "source": [
    "from sympy.interactive import printing\n",
    "from sympy import Limit, limit, Symbol, S\n",
    "\n",
    "x = Symbol('x')\n",
    "\n",
    "f = lambda x: 1/x\n",
    "\n",
    "Limit(f(x), x, S.Infinity).doit()"
   ]
  },
  {
   "cell_type": "code",
   "execution_count": 54,
   "metadata": {},
   "outputs": [
    {
     "data": {
      "text/latex": [
       "$$0$$"
      ],
      "text/plain": [
       "0"
      ]
     },
     "execution_count": 54,
     "metadata": {},
     "output_type": "execute_result"
    }
   ],
   "source": [
    "limit(f(x), x, S.Infinity)"
   ]
  },
  {
   "cell_type": "markdown",
   "metadata": {},
   "source": [
    "## Límites en Varias Variables\n",
    "\n",
    "```python \n",
    "Limit(Limit(función, variable_1, punto_1), variable_2, punto_2)\n",
    "```\n",
    "\n",
    "ó\n",
    "\n",
    "```python \n",
    "Limit(Limit(función, variable_2, punto_2), variable_1, punto_1)\n",
    "```"
   ]
  },
  {
   "cell_type": "code",
   "execution_count": 55,
   "metadata": {},
   "outputs": [
    {
     "data": {
      "text/latex": [
       "$$\\lim_{y \\to 0^+} \\lim_{x \\to 0^+}\\left(\\frac{x y}{x^{2} + y^{2}}\\right)$$"
      ],
      "text/plain": [
       "          ⎛  x⋅y  ⎞\n",
       " lim  lim ⎜───────⎟\n",
       "y─→0⁺x─→0⁺⎜ 2    2⎟\n",
       "          ⎝x  + y ⎠"
      ]
     },
     "execution_count": 55,
     "metadata": {},
     "output_type": "execute_result"
    }
   ],
   "source": [
    "from sympy.interactive import printing\n",
    "from sympy import Limit, limit, Symbol, S\n",
    "\n",
    "x = Symbol('x')\n",
    "y = Symbol('y')\n",
    "\n",
    "f = lambda x,y: (x*y)/(x*x + y*y)\n",
    "\n",
    "Limit(Limit(f(x,y), x, 0), y, 0)"
   ]
  },
  {
   "cell_type": "code",
   "execution_count": 56,
   "metadata": {},
   "outputs": [
    {
     "data": {
      "text/latex": [
       "$$0$$"
      ],
      "text/plain": [
       "0"
      ]
     },
     "execution_count": 56,
     "metadata": {},
     "output_type": "execute_result"
    }
   ],
   "source": [
    "Limit(Limit(f(x,y), x, 0), y, 0).doit()"
   ]
  },
  {
   "cell_type": "code",
   "execution_count": 57,
   "metadata": {},
   "outputs": [
    {
     "data": {
      "text/latex": [
       "$$\\lim_{x \\to 0^+} \\lim_{y \\to 0^+}\\left(\\frac{x y}{x^{2} + y^{2}}\\right)$$"
      ],
      "text/plain": [
       "          ⎛  x⋅y  ⎞\n",
       " lim  lim ⎜───────⎟\n",
       "x─→0⁺y─→0⁺⎜ 2    2⎟\n",
       "          ⎝x  + y ⎠"
      ]
     },
     "execution_count": 57,
     "metadata": {},
     "output_type": "execute_result"
    }
   ],
   "source": [
    "Limit(Limit(f(x,y), y, 0), x, 0)"
   ]
  },
  {
   "cell_type": "code",
   "execution_count": 58,
   "metadata": {},
   "outputs": [
    {
     "data": {
      "text/latex": [
       "$$0$$"
      ],
      "text/plain": [
       "0"
      ]
     },
     "execution_count": 58,
     "metadata": {},
     "output_type": "execute_result"
    }
   ],
   "source": [
    "Limit(Limit(f(x,y), y, 0), x, 0).doit()"
   ]
  },
  {
   "cell_type": "markdown",
   "metadata": {},
   "source": []
  },
  {
   "cell_type": "code",
   "execution_count": 59,
   "metadata": {},
   "outputs": [
    {
     "name": "stdout",
     "output_type": "stream",
     "text": [
      "x0 =  1 , Epsilon requerido: 0.001 , Delta =  0.0005\n",
      "Punto x en la distancia de x0  0.0005\n",
      "|f(x)-f(y)| <  0.0005 de otro modo marque #\n",
      "x |x-x0| |f(x)-f(x0)|\n"
     ]
    }
   ],
   "source": [
    "import numpy as np\n",
    "\n",
    "x0=1\n",
    "\n",
    "epsilon = 1e-3\n",
    "delta = abs(epsilon/2*x0)\n",
    "\n",
    "print(\"x0 = \", x0, \", Epsilon requerido:\", epsilon, \", Delta = \", delta)\n",
    "print(\"Punto x en la distancia de x0 \", delta)\n",
    "print(\"|f(x)-f(y)| < \", delta, \"de otro modo marque #\")\n",
    "\n",
    "numpoints = 20\n",
    "x = np.linspace(x0- 1.5 * delta, x0 + 1.5 * delta, numpoints + 1)\n",
    "\n",
    "print(\"x\", \"|x-x0|\", \"|f(x)-f(x0)|\")\n"
   ]
  },
  {
   "cell_type": "markdown",
   "metadata": {},
   "source": [
    "## Definición de límite\n",
    "\n",
    "Si $f(x)$ se vuelve arbitrariamente cerca de un número único $L$ cuando $x$ se aproxima a $c$ desde cualquier lado, el límite de $f(x)$ cuando $x$ se aproxima a $c$ es $L$. Esto está escrito como:\n",
    "    $$\\lim_{x \\rightarrow c } = L$$\n",
    "\n",
    "    "
   ]
  },
  {
   "cell_type": "markdown",
   "metadata": {},
   "source": [
    "**Ejercicio:** Estimar un límite numéricamente\n",
    "\n",
    "Use una tabla para estimar numéricamente el límite: $$\\lim_{x \\rightarrow 2 } = 3x-2$$\n",
    "\n",
    "**Solución:**\n",
    "Sea $f(x) = 3x-2$, construya una tabla que muestre los valores de $f(x)$ para dos conjuntos de valores-x, uno que se acerque a 2 desde la izquierda y uno que se acerque a 2 desde la derecha.\n",
    "\n",
    "\n",
    "| x | 1.9 | 1.99 | 1.999 | 2 | 2.001 | 2.01 | 2.1 |\n",
    "|----|:-----:|:---:|:---:|\n",
    "|f(x)| 3.700 | 3.970 | 3.997 | ? | 4.003 | 4.030 | 4.3000|\n"
   ]
  },
  {
   "cell_type": "code",
   "execution_count": 60,
   "metadata": {},
   "outputs": [
    {
     "name": "stdout",
     "output_type": "stream",
     "text": [
      "\tx\t   f(x)\n",
      "-----------------------------\n",
      "1.900000 \t 3.70000e+00\n",
      "-----------------------------\n",
      "1.990000 \t 3.97000e+00\n",
      "-----------------------------\n",
      "1.999000 \t 3.99700e+00\n",
      "-----------------------------\n",
      "2.100000 \t 4.30000e+00\n",
      "-----------------------------\n",
      "2.010000 \t 4.03000e+00\n",
      "-----------------------------\n",
      "2.001000 \t 4.00300e+00\n",
      "-----------------------------\n",
      "El límite de la función cuando x tiende a 2 es:  4.0\n"
     ]
    },
    {
     "data": {
      "image/png": "[encoded data removed]",
      "text/plain": [
       "<matplotlib.figure.Figure at 0x7f82c48b3320>"
      ]
     },
     "metadata": {},
     "output_type": "display_data"
    }
   ],
   "source": [
    "import numpy as np \n",
    "import matplotlib.pyplot as plt\n",
    "\n",
    "f = lambda x: (3*x - 2)\n",
    "x0 = 2\n",
    "\n",
    "# Se acota el intervalo donde se gráfica \n",
    "xx = np.linspace(x0 - 0.5, x0 + 0.5, 100)\n",
    "yy = f(xx)\n",
    "plt.plot(xx, yy)\n",
    "\n",
    "#Se genera el epsilon y los puntos de x\n",
    "epsilon = np.array([0.1, 0.01, 0.001])\n",
    "\n",
    "a = x0 - epsilon\n",
    "b = x0 + epsilon\n",
    "\n",
    "#Número de puntos que tendrá x\n",
    "n = 2*len(epsilon)\n",
    "\n",
    "x = np.concatenate((a, b), axis=0)\n",
    "y = f(x)\n",
    "\n",
    "print(\"\\tx\"  \"\\t   f(x)\")\n",
    "print(\"-----------------------------\")\n",
    "\n",
    "for i in range(0, n):\n",
    "    plt.plot([x[i], x[i]], [y[i], 0], 'go--')\n",
    "    print(\"%f \\t %0.5e\"%(x[i], y[i]))\n",
    "    print(\"-----------------------------\")\n",
    "\n",
    "print(\"El límite de la función cuando x tiende a 2 es: \", np.mean(y))\n",
    "\n",
    "\n",
    "plt.grid(True)\n",
    "plt.show()"
   ]
  },
  {
   "cell_type": "markdown",
   "metadata": {},
   "source": [
    "**Ejercicio:** Estimar un límite numéricamente\n",
    "\n",
    "Use una tabla para estimar numéricamente el límite: $$\\lim_{x \\rightarrow 0 } \\frac{x}{\\sqrt{x+1}-1}$$\n",
    "\n",
    "**Solución:**\n",
    "Sea $f(x) = \\frac{x}{\\sqrt{x+1}-1}$, construya una tabla que muestre los valores de $f(x)$ para dos conjuntos de valores-x, uno que se acerque a 0 desde la izquierda y uno que se acerque a 0 desde la derecha.\n",
    "\n",
    "\n",
    "| x | -0.01 | -0.001 | -0.0001 | 0 | 0.0001 | 0.001 | 0.01 |\n",
    "|----|:---:|:---:|:---:||:---:|\n",
    "|f(x)| 1.99499 | 1.99950 | 1.99995 | ? | 0.0001 | 2.00050 | 2.00499|"
   ]
  },
  {
   "cell_type": "code",
   "execution_count": 61,
   "metadata": {
    "scrolled": false
   },
   "outputs": [
    {
     "name": "stdout",
     "output_type": "stream",
     "text": [
      "\tx\t   f(x)\n",
      "-----------------------------\n",
      " -0.010000 \t 1.99499e+00\n",
      "-----------------------------\n",
      " -0.001000 \t 1.99950e+00\n",
      "-----------------------------\n",
      " -0.000100 \t 1.99995e+00\n",
      "-----------------------------\n",
      " 0.010000 \t 2.00499e+00\n",
      "-----------------------------\n",
      " 0.001000 \t 2.00050e+00\n",
      "-----------------------------\n",
      " 0.000100 \t 2.00005e+00\n",
      "-----------------------------\n",
      "El límite de la función cuando x tiende a 0 es:  1.99999579112\n"
     ]
    },
    {
     "data": {
      "image/png": "[encoded data removed]",
      "text/plain": [
       "<matplotlib.figure.Figure at 0x7f82c48b6278>"
      ]
     },
     "metadata": {},
     "output_type": "display_data"
    }
   ],
   "source": [
    "import numpy as np \n",
    "import matplotlib.pyplot as plt\n",
    "\n",
    "f = lambda x: x / (np.sqrt(x + 1) - 1)\n",
    "x0 = 0\n",
    "\n",
    "\n",
    "#########################\n",
    "xx = np.linspace(x0 - 0.5, x0 + 0.5, 100)\n",
    "yy = f(xx)\n",
    "plt.plot(xx, yy)\n",
    "#########################\n",
    "\n",
    "epsions = np.array([0.01, 0.001, 0.0001])\n",
    "a = x0 - epsions\n",
    "b = x0 + epsions\n",
    "\n",
    "n = 2*len(epsions)\n",
    "\n",
    "x = np.concatenate((a, b), axis=0)\n",
    "y = f(x)\n",
    "\n",
    "print(\"\\tx\"  \"\\t   f(x)\")\n",
    "print(\"-----------------------------\")\n",
    "\n",
    "for i in range(0, n):\n",
    "    plt.plot([x[i], x[i]], [y[i], 0], 'go--')\n",
    "    print(\" %f \\t %0.5e\"%(x[i], y[i]))\n",
    "    print(\"-----------------------------\")\n",
    "\n",
    "print(\"El límite de la función cuando x tiende a 0 es: \", np.mean(y))\n",
    "\n",
    "\n",
    "plt.grid(True)\n",
    "plt.show()"
   ]
  },
  {
   "cell_type": "markdown",
   "metadata": {},
   "source": []
  },
  {
   "cell_type": "code",
   "execution_count": null,
   "metadata": {},
   "outputs": [],
   "source": []
  }
 ],
 "metadata": {
  "kernelspec": {
   "display_name": "Python 3",
   "language": "python",
   "name": "python3"
  },
  "language_info": {
   "codemirror_mode": {
    "name": "ipython",
    "version": 3
   },
   "file_extension": ".py",
   "mimetype": "text/x-python",
   "name": "python",
   "nbconvert_exporter": "python",
   "pygments_lexer": "ipython3",
   "version": "3.6.8"
  }
 },
 "nbformat": 4,
 "nbformat_minor": 2
}
